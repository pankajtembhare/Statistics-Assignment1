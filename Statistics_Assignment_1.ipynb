{
 "cells": [
  {
   "cell_type": "markdown",
   "id": "be921782",
   "metadata": {},
   "source": [
    "# Statistics Assignment 1"
   ]
  },
  {
   "cell_type": "markdown",
   "id": "69584dd0",
   "metadata": {},
   "source": [
    "# Q1 :- What is Statistics?"
   ]
  },
  {
   "cell_type": "markdown",
   "id": "de651d7f",
   "metadata": {},
   "source": [
    "# Ans :- Statistics is a science of collecting , organizing and analyzing data. In other words, it is a mathematical discipline to collect, summarize data, Also, we can say that statistics is a branch of applied mathematics."
   ]
  },
  {
   "cell_type": "markdown",
   "id": "ca34ea10",
   "metadata": {},
   "source": [
    "."
   ]
  },
  {
   "cell_type": "markdown",
   "id": "cc0566b2",
   "metadata": {},
   "source": [
    "# Q2 :- Define different types of statistics and give an example of when each type might be used. "
   ]
  },
  {
   "cell_type": "markdown",
   "id": "91fa0e8f",
   "metadata": {},
   "source": [
    "# Types of statistics     \n",
    "# (1) Descriptive Statistics :- It consits of organizing and summerizing data.                       \n",
    "  # 1. Measure of central tendency [ mean, median and mode]                                \n",
    " #  2. Measure of disperson [ variance]                                                                     \n",
    " #  3. Different types of distribution of data[histogram]                                                                                                                                                                                 \n",
    " # (2) Inferential Statistics :- It consits of using data you have measures to form conclution.                                                                                                                  \n",
    " # 1. Z-test\n",
    " # 2. T-test\n",
    "  \n",
    "# eg. Lets say there are 20 statistics classes at your college and you have collected the height of students in the class.\n",
    "\n",
    "# Heights are recorded 175cm, 180cm, 140cm, 135cm, 160cm, 190cm.\n",
    "\n",
    "# Descriptive statistics question\n",
    "   # \"What is the average height of the entire classroom.\"\n",
    "   \n",
    "# Inferential statistics question \n",
    "  #  \"Are the height of the student in the classroom similar to what you expect in the entire colege."
   ]
  },
  {
   "cell_type": "markdown",
   "id": "d72d0d69",
   "metadata": {},
   "source": [
    "."
   ]
  },
  {
   "cell_type": "markdown",
   "id": "c8635fb5",
   "metadata": {},
   "source": [
    "# Q3 :What are the different types of the data and how do they are differ from each other? Provide an example of each type of data."
   ]
  },
  {
   "cell_type": "markdown",
   "id": "411d3cc7",
   "metadata": {},
   "source": [
    "# Ans :- Following are two types of data:\n",
    "#\n",
    "\n",
    "# (1) Quantitative (numerical data) :\n",
    "#     1.Discrete (whole numbers) \n",
    "#         eg. No. of Bank Account , No. of childrens in a family.\n",
    "\n",
    "#     2.Continuous (Any value)\n",
    "#         eg. Weight,heaight,tempreture, speed.\n",
    "\n",
    "#\n",
    "#\n",
    "#\n",
    "\n",
    "\n",
    "# (2) Qualitative (Categorical Data) :\n",
    "#     1.Nominal (non rankable)\n",
    "#         eg. Gender, blood group,pincode.\n",
    "\n",
    "#     2.Ordinal (rank)\n",
    "#         eg. customer feedback,good,bad,better.\n"
   ]
  },
  {
   "cell_type": "markdown",
   "id": "0091bc34",
   "metadata": {},
   "source": [
    "."
   ]
  },
  {
   "cell_type": "markdown",
   "id": "46271189",
   "metadata": {},
   "source": [
    "# Q4 :- Categorise the following datasets with respect to quantitative and qualitative data types:"
   ]
  },
  {
   "cell_type": "markdown",
   "id": "1dc750d7",
   "metadata": {},
   "source": [
    "# (I) : Grading in exam : A+,B+,B,C+,C,D,E.\n",
    "# Above is a example of 'Qualitative' data type"
   ]
  },
  {
   "cell_type": "markdown",
   "id": "07e1bd17",
   "metadata": {},
   "source": [
    "# (II) : Colour of mangoes: Yellow, Green, Orange, Red.\n",
    "# Above is a example of 'Qualitative' data type."
   ]
  },
  {
   "cell_type": "markdown",
   "id": "a9e9c165",
   "metadata": {},
   "source": [
    "# (III) : Height data of a class: [178.9, 179, 179.5, 176, 177.2, 178.3, 175.8....]\n",
    "# Above is a example of 'Quentitative' data type."
   ]
  },
  {
   "cell_type": "markdown",
   "id": "8addfd6d",
   "metadata": {},
   "source": [
    "# (IV) : Number of mangoes exported by a farm:[500,600,478,672]\n",
    "# Above is a example of 'Quentitative' data type."
   ]
  },
  {
   "cell_type": "markdown",
   "id": "233686eb",
   "metadata": {},
   "source": [
    "."
   ]
  },
  {
   "cell_type": "markdown",
   "id": "003d31f7",
   "metadata": {},
   "source": [
    "# Q5 :- Explain the concept of levels of measurement and give an example of a variable for each level."
   ]
  },
  {
   "cell_type": "markdown",
   "id": "3193370c",
   "metadata": {},
   "source": [
    "# Ans : Levels of measurement, also called scales of measurement, tell how precisely variables are recorded. In scientific research, a variable is anything that can take on different values across your data set(e.g.,height or test scores)."
   ]
  },
  {
   "cell_type": "markdown",
   "id": "d69d766f",
   "metadata": {},
   "source": [
    "# There are 4 levels of measurement:"
   ]
  },
  {
   "cell_type": "markdown",
   "id": "c4bd62ab",
   "metadata": {},
   "source": [
    "# 1. Nominal : The data can only be categorized.\n",
    "# eg. city of birth,gender,ethnicity,car brands,marital status."
   ]
  },
  {
   "cell_type": "markdown",
   "id": "1aee44ba",
   "metadata": {},
   "source": [
    "# 2. Ordinal : The data can be categorized and ranked."
   ]
  },
  {
   "cell_type": "markdown",
   "id": "5272ad78",
   "metadata": {},
   "source": [
    "# eg. Top 5 Olympic medallists, Language ability (eg. beginner, intermediate, fluent), Likert_type question(eg., very dissatisfied to very satisfied)"
   ]
  },
  {
   "cell_type": "markdown",
   "id": "f5cd0121",
   "metadata": {},
   "source": [
    "# 3. Interval : The data can be categorized, ranked, and evenly spaced."
   ]
  },
  {
   "cell_type": "markdown",
   "id": "edb406b4",
   "metadata": {},
   "source": [
    "# eg. test scores (eg. IQ or exams), personality inventories, temperatures in fahrenheit or celsius."
   ]
  },
  {
   "cell_type": "markdown",
   "id": "c4bcf57f",
   "metadata": {},
   "source": [
    "# Ratio : The data can be categorized, ranked, evenly spaced, and has a natural zero."
   ]
  },
  {
   "cell_type": "markdown",
   "id": "91b54152",
   "metadata": {},
   "source": [
    "# eg. Height, age, Wight, temperature in kelvin."
   ]
  },
  {
   "cell_type": "markdown",
   "id": "3aa28c7d",
   "metadata": {},
   "source": [
    "."
   ]
  },
  {
   "cell_type": "markdown",
   "id": "27ef1005",
   "metadata": {},
   "source": [
    "# Q6 :- Why is it important to understand the level of measurement when analyzing data? Provide an example to illustrate your answer."
   ]
  },
  {
   "cell_type": "markdown",
   "id": "0264d523",
   "metadata": {},
   "source": [
    "# Ans : The level at which you measure a variable determines how you can analyze your data.\n",
    "#             In Many cases, your variables can be measured at different levels, so you have to choose the level of measurement you will use before data collection begins."
   ]
  },
  {
   "cell_type": "markdown",
   "id": "ba964d8c",
   "metadata": {},
   "source": [
    "# Example of a variable at levels of measurement.\n",
    "# You can measure the variable of income at an ordinal or rotio level.\n",
    "# Ordinal Level : You create brackets of income ranges : 0k - 19,999k, 20000k - 39,999, 40,000k - 59,999k. You ask participants to select the bracket that represents their annual income. The brackets are coded with numbers from 1-3.\n",
    "# Ratio Level : You collect data on the exact annual incomes of your participants.\n",
    "# A\n",
    "# Incom (ordinal level) : Bracket 1  and  Income (ratio level) : 12,550k\n",
    "# B\n",
    "# Income (ordinal level) : Bracket 2   and  Income (ratio level) : 39,970k\n",
    "# C\n",
    "# Income (ordinal level) : Bracket 3    and   Income (ratio level) : 40,000k\n",
    "# At a ratio level, you can see that the difference between A and B's incomes is far greater than the difference between B and C's incomes.\n",
    "# At an ordinal level, however, you only know the income bracket for each participant, not their exact income. Since you cannot say exactly how much each income differs from the others in your data set, you can only order the income levels and group the participants."
   ]
  },
  {
   "cell_type": "markdown",
   "id": "f7811610",
   "metadata": {},
   "source": [
    "# ."
   ]
  },
  {
   "cell_type": "markdown",
   "id": "313d6988",
   "metadata": {},
   "source": [
    "# Q7 :- How nominal data type is different from ordinal data type."
   ]
  },
  {
   "cell_type": "markdown",
   "id": "6bda9bae",
   "metadata": {},
   "source": [
    "# Ans : Ordinal data is analyzed by mode, median, quartiles, and percentiles, whereas nominal data is analyzed by grouping varibales into categories and calculating the distribution mode.\n",
    "# Nominal data are categorical, whereas Ordinal data are both categorical and quantitative."
   ]
  },
  {
   "cell_type": "markdown",
   "id": "c079a5d8",
   "metadata": {},
   "source": [
    "."
   ]
  },
  {
   "cell_type": "markdown",
   "id": "cce1296e",
   "metadata": {},
   "source": [
    "# Q8 :- Which type of plot can be used to display data in terms of range?"
   ]
  },
  {
   "cell_type": "markdown",
   "id": "60e1f6d1",
   "metadata": {},
   "source": [
    "# Ans : HIstogram. If the goups depicted in a bar chart are actually continuous numeric ranges, we can push the bars together to generate a histogram."
   ]
  },
  {
   "cell_type": "markdown",
   "id": "0f5eae52",
   "metadata": {},
   "source": [
    "."
   ]
  },
  {
   "cell_type": "markdown",
   "id": "b2d14ec3",
   "metadata": {},
   "source": [
    "# Q9 :- Describe the difference between descriptive and inferential statistics. Give an example of each type of statistics and expalin how they are used."
   ]
  },
  {
   "cell_type": "markdown",
   "id": "40a289ef",
   "metadata": {},
   "source": [
    "# Ans : Difference between descriptive and inferential statistics.\n",
    "# Descriptive Statistics : 1. Describe the features of populations and/or samples   2. Organize and present data in a purely factual way.   3. present final results visually, using tables, charts or graphs.  4. Draw conclusions based on know data  5. Use measures like central tendency, distribution, and variance."
   ]
  },
  {
   "cell_type": "markdown",
   "id": "459b585d",
   "metadata": {},
   "source": [
    "# eg. Mean, median, mode, standard deviation, range, frequency tables."
   ]
  },
  {
   "cell_type": "markdown",
   "id": "f9a23ab5",
   "metadata": {},
   "source": [
    "# Inferential Statistics : 1. Use samples to make generalizations about larger pupulation. 2. Help us to make estimates and predict future outcomes. 3. Draw conclusions that go beyond the availble data. 4. Use techniques like hypothesis testing, confidence-intervals, and regression and correlation analysis."
   ]
  },
  {
   "cell_type": "markdown",
   "id": "6f353f0c",
   "metadata": {},
   "source": [
    "# Hypothesis testing, confidence intervals, regression analysis, ANOVA( analysis of variance), chi-square tests, t-test, etc."
   ]
  },
  {
   "cell_type": "markdown",
   "id": "37f4b25a",
   "metadata": {},
   "source": [
    "# Descriptive example with Explanation:\n",
    "# .\n",
    "# You collect data on the SAT scores of all 11th graders in a school for three years.\n",
    "# You can use descriptive statistics to get a quick overview of the school's scores in those years. You can then directly compare the mean SAT score with the mean scores of other schools."
   ]
  },
  {
   "cell_type": "markdown",
   "id": "85e8ce4f",
   "metadata": {},
   "source": [
    "# .\n",
    "# Inferential example with Explanation:\n",
    "# .\n",
    "# You randomly select a sample of 11th graders in your state and collect data on their SAT scores and other characterics.\n",
    "# You can use inferential statistics to make estimates oand test hypotheses about the whole population of 11th graders in the state based on your sample data."
   ]
  },
  {
   "cell_type": "markdown",
   "id": "3b17eb89",
   "metadata": {},
   "source": [
    "# ."
   ]
  },
  {
   "cell_type": "markdown",
   "id": "89371694",
   "metadata": {},
   "source": [
    "# Q10 :- What are some common measures of central tendency and variability used in statistics? Explain how much each measure can be used to describe a dataset."
   ]
  },
  {
   "cell_type": "markdown",
   "id": "0b895616",
   "metadata": {},
   "source": [
    "# Ans :- There are three fundamental statistics that measure the central tendency o data: the mode, meadian and mean. All three provide insights into 'the center' of a distribution of data points.\n",
    "\n",
    "# For a view of a entire process, an understanding of variability must be applied to the measures of central tendency. Satandard Deviation is a measure of the spread of scores around the mean in a normal curve.\n",
    "# .\n",
    "# How much measure can be used.\n",
    "# .\n",
    "# The mode, median, and mean define the centres of a distribution of scores and provide the teacher with important information, but they do not present the total picture. For a view of a entire process, an understanding of variability must be applied to the measures of central tendency."
   ]
  },
  {
   "cell_type": "code",
   "execution_count": null,
   "id": "2ff25cbb",
   "metadata": {},
   "outputs": [],
   "source": []
  }
 ],
 "metadata": {
  "kernelspec": {
   "display_name": "Python 3 (ipykernel)",
   "language": "python",
   "name": "python3"
  },
  "language_info": {
   "codemirror_mode": {
    "name": "ipython",
    "version": 3
   },
   "file_extension": ".py",
   "mimetype": "text/x-python",
   "name": "python",
   "nbconvert_exporter": "python",
   "pygments_lexer": "ipython3",
   "version": "3.11.1"
  }
 },
 "nbformat": 4,
 "nbformat_minor": 5
}
